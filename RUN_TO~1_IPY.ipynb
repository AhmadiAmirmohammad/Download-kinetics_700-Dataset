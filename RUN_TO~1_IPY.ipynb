{
  "nbformat": 4,
  "nbformat_minor": 0,
  "metadata": {
    "colab": {
      "name": "RUN_TO~1.IPY",
      "provenance": [],
      "collapsed_sections": [],
      "include_colab_link": true
    },
    "kernelspec": {
      "name": "python3",
      "display_name": "Python 3"
    },
    "language_info": {
      "name": "python"
    },
    "accelerator": "GPU"
  },
  "cells": [
    {
      "cell_type": "markdown",
      "metadata": {
        "id": "view-in-github",
        "colab_type": "text"
      },
      "source": [
        "<a href=\"https://colab.research.google.com/github/amir925/Download-kinetics_700-Dataset/blob/main/RUN_TO~1_IPY.ipynb\" target=\"_parent\"><img src=\"https://colab.research.google.com/assets/colab-badge.svg\" alt=\"Open In Colab\"/></a>"
      ]
    },
    {
      "cell_type": "code",
      "execution_count": null,
      "metadata": {
        "id": "k4QHZk_iBEbg",
        "colab": {
          "base_uri": "https://localhost:8080/",
          "height": 35
        },
        "outputId": "fd46a78a-3a41-44de-e109-47995c3f6379"
      },
      "outputs": [
        {
          "output_type": "execute_result",
          "data": {
            "application/vnd.google.colaboratory.intrinsic+json": {
              "type": "string"
            },
            "text/plain": [
              "' \\nrun by: AmirMohammad Ahmadi\\n'"
            ]
          },
          "metadata": {},
          "execution_count": 1
        }
      ],
      "source": [
        "#https://github.com/Showmax/kinetics-downloader\n",
        "\n",
        "#!git clone https://github.com/Showmax/kinetics-downloader.git\n",
        "# After clone project copy it to google drive \n",
        "\n",
        "''' \n",
        "run by: AmirMohammad Ahmadi\n",
        "'''"
      ]
    },
    {
      "cell_type": "code",
      "source": [
        "# connect to google drive\n",
        "from google.colab import drive\n",
        "drive.mount('/content/drive')"
      ],
      "metadata": {
        "colab": {
          "base_uri": "https://localhost:8080/"
        },
        "id": "_Ls3g4qXLJVG",
        "outputId": "893fd1a7-ce63-4f6d-ba85-b4ca1dcfadb8"
      },
      "execution_count": null,
      "outputs": [
        {
          "output_type": "stream",
          "name": "stdout",
          "text": [
            "Drive already mounted at /content/drive; to attempt to forcibly remount, call drive.mount(\"/content/drive\", force_remount=True).\n"
          ]
        }
      ]
    },
    {
      "cell_type": "code",
      "source": [
        "# copy folder project to google drive \n",
        "%cd /content/drive/MyDrive/kinetics-downloader"
      ],
      "metadata": {
        "colab": {
          "base_uri": "https://localhost:8080/"
        },
        "id": "RbiwktzLH3TH",
        "outputId": "47075001-0969-47ea-9368-f1fd7c614611"
      },
      "execution_count": null,
      "outputs": [
        {
          "output_type": "stream",
          "name": "stdout",
          "text": [
            "/content/drive/MyDrive/kinetics-downloader\n"
          ]
        }
      ]
    },
    {
      "cell_type": "code",
      "source": [
        "# install python dependencies\n",
        "\n",
        "!pip3 install -r requirements.txt "
      ],
      "metadata": {
        "id": "FE0Muby6D7Qx",
        "colab": {
          "base_uri": "https://localhost:8080/"
        },
        "outputId": "f1b8cdd8-25a1-4846-a470-db79eba0fb56"
      },
      "execution_count": null,
      "outputs": [
        {
          "output_type": "stream",
          "name": "stdout",
          "text": [
            "Requirement already satisfied: youtube-dl in /usr/local/lib/python3.7/dist-packages (from -r requirements.txt (line 1)) (2021.12.17)\n"
          ]
        }
      ]
    },
    {
      "cell_type": "code",
      "source": [
        "# show list of class label dataset\n",
        "!python list_classes.py"
      ],
      "metadata": {
        "id": "D4QYWRBtIwyw",
        "colab": {
          "base_uri": "https://localhost:8080/"
        },
        "outputId": "641ba94a-d27a-4af4-b14e-de7edba663a3"
      },
      "execution_count": null,
      "outputs": [
        {
          "output_type": "stream",
          "name": "stdout",
          "text": [
            "smoking\n",
            "smoking hookah\n",
            "smoking pipe\n",
            "falling off bike\n",
            "falling off chair\n"
          ]
        }
      ]
    },
    {
      "cell_type": "code",
      "source": [
        "# befor use shouilde change root_path in config.py to /content/drive/MyDrive/kinetic400\n",
        "%cd /content/drive/MyDrive/kinetics-downloader\n",
        "\n",
        "#\"smoking pipe\" \"smoking\" \"smoking hookah\" \"falling off bike\" \"falling off chair\"\n",
        "\n",
        "!python download.py --classes \"smoking pipe\" \"smoking\" \"smoking hookah\" \"falling off bike\" \"falling off chair\"\n"
      ],
      "metadata": {
        "colab": {
          "base_uri": "https://localhost:8080/"
        },
        "id": "8OO8jmlsBlHt",
        "outputId": "132871f2-39ad-45fb-d682-e703a184ffcd"
      },
      "execution_count": null,
      "outputs": [
        {
          "output_type": "stream",
          "name": "stdout",
          "text": [
            "/content/drive/MyDrive/kinetics-downloader\n",
            "Process Process-1:\n",
            "Traceback (most recent call last):\n",
            "  File \"download.py\", line 132, in <module>\n",
            "    main(parsed)\n",
            "  File \"download.py\", line 109, in main\n",
            "    args.log_file)\n",
            "  File \"download.py\", line 62, in download_classes\n",
            "    pool.feed_videos()\n",
            "  File \"/content/drive/MyDrive/kinetics-downloader/lib/parallel_download.py\", line 62, in feed_videos\n",
            "Process Process-2:\n",
            "    downloader.download_class_parallel(class_name, self.videos_dict, self.directory, self.videos_queue)\n",
            "  File \"/content/drive/MyDrive/kinetics-downloader/lib/downloader.py\", line 171, in download_class_parallel\n",
            "Traceback (most recent call last):\n",
            "  File \"/usr/lib/python3.7/multiprocessing/process.py\", line 297, in _bootstrap\n",
            "    self.run()\n",
            "  File \"/usr/lib/python3.7/multiprocessing/process.py\", line 99, in run\n",
            "    self._target(*self._args, **self._kwargs)\n",
            "  File \"/content/drive/MyDrive/kinetics-downloader/lib/parallel_download.py\", line 135, in write_failed_worker\n",
            "    video_id = failed_queue.get()\n",
            "  File \"/usr/lib/python3.7/multiprocessing/queues.py\", line 94, in get\n",
            "    res = self._recv_bytes()\n",
            "  File \"/usr/lib/python3.7/multiprocessing/connection.py\", line 216, in recv_bytes\n",
            "    buf = self._recv_bytes(maxlength)\n",
            "  File \"/usr/lib/python3.7/multiprocessing/connection.py\", line 407, in _recv_bytes\n",
            "    buf = self._recv(4)\n",
            "  File \"/usr/lib/python3.7/multiprocessing/connection.py\", line 379, in _recv\n",
            "    chunk = read(handle, remaining)\n",
            "KeyboardInterrupt\n",
            "    videos_queue.put((key, class_dir, start, end))\n",
            "  File \"/usr/lib/python3.7/multiprocessing/queues.py\", line 82, in put\n",
            "    if not self._sem.acquire(block, timeout):\n",
            "KeyboardInterrupt\n",
            "Traceback (most recent call last):\n",
            "  File \"/usr/lib/python3.7/multiprocessing/process.py\", line 297, in _bootstrap\n",
            "    self.run()\n",
            "  File \"/usr/lib/python3.7/multiprocessing/process.py\", line 99, in run\n",
            "    self._target(*self._args, **self._kwargs)\n",
            "  File \"/content/drive/MyDrive/kinetics-downloader/lib/parallel_download.py\", line 121, in video_worker\n",
            "    if not downloader.process_video(video_id, directory, start, end, compress=compress, log_file=log_file):\n",
            "  File \"/content/drive/MyDrive/kinetics-downloader/lib/downloader.py\", line 84, in process_video\n",
            "    success = download_video(video_id, download_path, log_file=log_file)\n",
            "  File \"/content/drive/MyDrive/kinetics-downloader/lib/downloader.py\", line 20, in download_video\n",
            "    \"bestvideo[ext={}]+bestaudio/best\".format(video_format), \"--output\", download_path, \"--no-continue\"], stderr=stderr)\n",
            "  File \"/usr/lib/python3.7/subprocess.py\", line 341, in call\n",
            "    return p.wait(timeout=timeout)\n",
            "  File \"/usr/lib/python3.7/subprocess.py\", line 1019, in wait\n",
            "    return self._wait(timeout=timeout)\n",
            "  File \"/usr/lib/python3.7/subprocess.py\", line 1653, in _wait\n",
            "    (pid, sts) = self._try_wait(0)\n",
            "  File \"/usr/lib/python3.7/subprocess.py\", line 1611, in _try_wait\n",
            "    (pid, sts) = os.waitpid(self.pid, wait_flags)\n",
            "KeyboardInterrupt\n"
          ]
        }
      ]
    },
    {
      "cell_type": "code",
      "source": [
        ""
      ],
      "metadata": {
        "id": "uY2nBB3-4DrK"
      },
      "execution_count": null,
      "outputs": []
    }
  ]
}